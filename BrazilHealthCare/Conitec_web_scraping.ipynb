{
  "nbformat": 4,
  "nbformat_minor": 0,
  "metadata": {
    "colab": {
      "name": "Conitec web scraping.ipynb",
      "provenance": [],
      "collapsed_sections": []
    },
    "kernelspec": {
      "name": "python3",
      "display_name": "Python 3"
    }
  },
  "cells": [
    {
      "cell_type": "markdown",
      "metadata": {
        "id": "67ALqLeyp2VS"
      },
      "source": [
        "# CONITEC Web scraping\n",
        "\n",
        "*CONITEC is the National Commission for Technology Incorporation at SUS, created in 2011 by the Law nº 12.401, which addresses the therapeutic assistance and the incorporation of health technology in the scope of the Unified Health System (SUS).*\n",
        "\n",
        "The script gets the files with the evaluation status of all requests submitted to CONITEC \n",
        "\n",
        "## Steps\n",
        "\n",
        "*   CONITEC Web Scraping\n",
        "*   Download Files GDRIVE"
      ]
    },
    {
      "cell_type": "code",
      "metadata": {
        "id": "w9MSKxlvp3vb"
      },
      "source": [
        "pip install requests beautifulsoup4"
      ],
      "execution_count": null,
      "outputs": []
    },
    {
      "cell_type": "code",
      "metadata": {
        "id": "r4EYfQUzDvqN"
      },
      "source": [
        "import pandas as pd\n",
        "import requests \n",
        "from bs4 import BeautifulSoup"
      ],
      "execution_count": null,
      "outputs": []
    },
    {
      "cell_type": "markdown",
      "metadata": {
        "id": "ayjZzIm6xrib"
      },
      "source": [
        "**Aux functions**\n",
        "\n",
        "1.   save_file_gdrive\n",
        "2.   cleanStr"
      ]
    },
    {
      "cell_type": "code",
      "metadata": {
        "id": "HiwRd6K4sr79"
      },
      "source": [
        "def save_file_gdrive(file_path_gdrive, file_url):\n",
        "   r = requests.get(file_url, stream = True)\n",
        "\n",
        "   with open(file_path_gdrive, \"wb\") as file:  \n",
        "     for block in r.iter_content(chunk_size = 1024): \n",
        "         if block:  \n",
        "             file.write(block)  "
      ],
      "execution_count": null,
      "outputs": []
    },
    {
      "cell_type": "code",
      "metadata": {
        "id": "v8_ztd34xn67"
      },
      "source": [
        "def cleanStr(valor):\n",
        "  return (valor.replace('\\n', '').replace('/','.').replace(';',',').replace('\\xa0',''))[0:150]"
      ],
      "execution_count": null,
      "outputs": []
    },
    {
      "cell_type": "markdown",
      "metadata": {
        "id": "X97kTWDCuJOT"
      },
      "source": [
        "**GET Incorporacoes**\n",
        "\n",
        "1.   Read \"Incorporacoes\" from website using Beautiful soup\n",
        "2.   Create a Dataframe for later manipulation\n",
        "3.   Download files to Gdrive"
      ]
    },
    {
      "cell_type": "code",
      "metadata": {
        "id": "N9cbVV0V3KWP"
      },
      "source": [
        "# GET html Incorporações\n",
        "incorporacoesHTML = BeautifulSoup(requests.get('http://conitec.gov.br/decisoes-sobre-incorporacao-ordem-alfabetica').text, 'html.parser')"
      ],
      "execution_count": null,
      "outputs": []
    },
    {
      "cell_type": "code",
      "metadata": {
        "id": "jHG4UzyixkS3"
      },
      "source": [
        "#Incorporações\n",
        "conteudo2 = incorporacoesHTML.findAll(\"table\", {\"class\": \"MsoNormalTable\"})[0].findAll(\"tr\")[3:]\n",
        "\n",
        "# Create dictiomary + Dataframe\n",
        "tecnologiaAvaliada, relatorioRecomendacao, decisao, portaria, pdf  = [], [], [], [], []\n",
        "\n",
        "for tr in conteudo2:\n",
        "  td = tr.findAll(\"td\")\n",
        "      \n",
        "  if len(td) == 4 :   \n",
        "    tecnologiaAvaliada.append(td[0].text.replace('\\n', ''))\n",
        "    relatorioRecomendacao.append(cleanStr(td[1].text))\n",
        "    pdf.append('http://conitec.gov.br' + td[1].find(\"a\")[\"href\"])\n",
        "    decisao.append(td[2].text.replace('\\n', ''))\n",
        "    portaria.append(td[3].text.replace('\\n', ''))\n",
        " \n",
        "Incorporacoes = pd.DataFrame({'TecnologiaAvaliada': tecnologiaAvaliada, 'RelatorioRecomendacao': relatorioRecomendacao, 'Decisao': decisao, 'Portaria': portaria, 'Pdf': pdf })"
      ],
      "execution_count": null,
      "outputs": []
    },
    {
      "cell_type": "code",
      "metadata": {
        "id": "FkbucVIY4TWJ"
      },
      "source": [
        "Incorporacoes"
      ],
      "execution_count": null,
      "outputs": []
    },
    {
      "cell_type": "code",
      "metadata": {
        "colab": {
          "base_uri": "https://localhost:8080/"
        },
        "id": "w7TeJCqWxkdC",
        "outputId": "a4ee809c-5a26-4deb-cc71-130bfc8235da"
      },
      "source": [
        "# Open GDrive\n",
        "from google.colab import drive\n",
        "drive.mount('/content/gdrive')"
      ],
      "execution_count": null,
      "outputs": [
        {
          "output_type": "stream",
          "text": [
            "Drive already mounted at /content/gdrive; to attempt to forcibly remount, call drive.mount(\"/content/gdrive\", force_remount=True).\n"
          ],
          "name": "stdout"
        }
      ]
    },
    {
      "cell_type": "code",
      "metadata": {
        "id": "GhAXsvZ3zUTC"
      },
      "source": [
        "folder = \"files_conitec/\"\n",
        "for item, rows in Incorporacoes.iterrows():\n",
        "  file_path_gdrive = \"/content/gdrive/My Drive/\" +  folder + rows[\"RelatorioRecomendacao\"] + \".pdf\"\n",
        "  file_url = rows[\"Pdf\"]\n",
        "  \n",
        "  save_file_gdrive(file_path_gdrive, file_url)\n",
        "\n",
        "  print(\"New File: \", file_path_gdrive)"
      ],
      "execution_count": null,
      "outputs": []
    }
  ]
}