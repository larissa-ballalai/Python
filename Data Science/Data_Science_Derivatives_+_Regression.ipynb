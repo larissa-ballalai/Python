{
  "nbformat": 4,
  "nbformat_minor": 0,
  "metadata": {
    "colab": {
      "name": "Data Science Derivatives + Regression.ipynb",
      "provenance": []
    },
    "kernelspec": {
      "name": "python3",
      "display_name": "Python 3"
    }
  },
  "cells": [
    {
      "cell_type": "markdown",
      "metadata": {
        "id": "26yDpDNKAxJM"
      },
      "source": [
        "Lists - Collections"
      ]
    },
    {
      "cell_type": "code",
      "metadata": {
        "id": "TOR9uDNP__6y",
        "colab": {
          "base_uri": "https://localhost:8080/",
          "height": 319
        },
        "outputId": "ce9332da-6b17-4071-c68e-54b2925237ad"
      },
      "source": [
        "#1. creating the list with all words (list_of_lyrics)\n",
        "lyrics = \"Ah, Ba Ba Ba Ba Barbara Ann Ba Ba Ba Ba Barbara Ann Oh Barbara Ann Take My Hand Barbara Ann You Got Me Rockin' And A-Rollin' Rockin' And A-Reelin' Barbara Ann Ba Ba Ba Barbara Ann ...More Lyrics... Ba Ba Ba Ba Barbara Ann Ba Ba Ba Ba Barbara Ann\"\n",
        "\n",
        "list_of_lyrics = lyrics.split(' ')\n",
        "len(list_of_lyrics)\n",
        "\n",
        "unique_words = set(list_of_lyrics)\n",
        "unique_words"
      ],
      "execution_count": null,
      "outputs": [
        {
          "output_type": "execute_result",
          "data": {
            "text/plain": [
              "{'...More',\n",
              " \"A-Reelin'\",\n",
              " \"A-Rollin'\",\n",
              " 'Ah,',\n",
              " 'And',\n",
              " 'Ann',\n",
              " 'Ba',\n",
              " 'Barbara',\n",
              " 'Got',\n",
              " 'Hand',\n",
              " 'Lyrics...',\n",
              " 'Me',\n",
              " 'My',\n",
              " 'Oh',\n",
              " \"Rockin'\",\n",
              " 'Take',\n",
              " 'You'}"
            ]
          },
          "metadata": {
            "tags": []
          },
          "execution_count": 1
        }
      ]
    },
    {
      "cell_type": "code",
      "metadata": {
        "id": "bEQ-FLRWBZbO"
      },
      "source": [
        "#2. creating dictionary with unique word and populating it (sword_histogram)\n",
        "word_histogram = dict.fromkeys(unique_words, 0)\n",
        "\n",
        "for word in list_of_lyrics:\n",
        "    word_histogram[word] = word_histogram[word]+ 1 \n",
        "\n",
        "word_histogram"
      ],
      "execution_count": null,
      "outputs": []
    },
    {
      "cell_type": "markdown",
      "metadata": {
        "id": "w8R7viFgdH9u"
      },
      "source": [
        "Plotting Visualization"
      ]
    },
    {
      "cell_type": "code",
      "metadata": {
        "id": "u1EFlQ-JDA9y"
      },
      "source": [
        "#3. visualization \n",
        "import plotly.graph_objects as go\n",
        "\n",
        "val = go.Bar(x=list(unique_words), y=list(word_histogram.values()))\n",
        "val2 = go.Bar(x=list(unique_words), y=[3, 14, 1, 1, 1, 1, 8, 2, 1, 1, 1, 1, 1, 1, 1, 1, 2])\n",
        "\n",
        "fig = go.Figure(\n",
        "    data=[val, val2],\n",
        "    layout_title_text=\"My Plot\"\n",
        ")\n",
        "fig\n",
        "\n",
        "#import plotly\n",
        "#plotly.offline.init_notebook_mode(connected=True)\n",
        "#trace0 = {'type': 'bar', 'x': ['jack', 'jill', 'sandy'], 'y': [8, 11, 10]}\n",
        "#plotly.offline.iplot([trace0])"
      ],
      "execution_count": null,
      "outputs": []
    },
    {
      "cell_type": "code",
      "metadata": {
        "id": "85JpK8r4cyJg"
      },
      "source": [
        "fig = go.Figure(\n",
        "    data=[go.Scatter(x=list(unique_words), y=list(word_histogram.values()))],\n",
        "    layout_title_text=\"My Plot\"\n",
        ")\n",
        "fig"
      ],
      "execution_count": null,
      "outputs": []
    },
    {
      "cell_type": "markdown",
      "metadata": {
        "id": "F18tTLisdQFt"
      },
      "source": [
        "Dictionaries"
      ]
    },
    {
      "cell_type": "code",
      "metadata": {
        "id": "Do9x8pRXrHc8"
      },
      "source": [
        "#4. create a dictionary; add a list to it; accessing data\n",
        "friends = {'name': 'Friends', 'genre': 'sitcom', 'no_of_seasons': 10}\n",
        "friends['creators'] = ['David Crane', 'Marta Kauffman']\n",
        "friends['no_of_seasons'] = 12\n",
        "friends['creators'][1]\n",
        "\n",
        "#create other dictionary, different structure (more one column).\n",
        "seinfeld = {'name': 'Seinfeld', 'creators': ['Larry David', 'Jerry Seinfeld'], 'genre': 'sitcom', 'no_of_seasons': 10, 'no_of_episodes': 180}\n",
        "\n",
        "#TV show is a list, each element is a dictionary\n",
        "tv_shows = [friends, seinfeld]\n",
        "\n",
        "tv_shows[1]['creators']\n",
        "tv_shows[1]['creators'][1]"
      ],
      "execution_count": null,
      "outputs": []
    },
    {
      "cell_type": "markdown",
      "metadata": {
        "id": "Jsh4Whf3dVrr"
      },
      "source": [
        "Pandas - Import Excel"
      ]
    },
    {
      "cell_type": "code",
      "metadata": {
        "id": "hHbIYGz0xCpi"
      },
      "source": [
        "#5. Import file\n",
        "import pandas\n",
        "\n",
        "travel_df = pandas.read_excel('https://github.com/larissa-ballalai/excel-to-python-ds-apply-000/blob/master/cities.xlsx?raw=true')\n",
        "cities = travel_df.to_dict('records')\n",
        "\n",
        "city_populations = []\n",
        "names_and_ranks = []\n",
        "city_area = []\n",
        "\n",
        "for c in cities:\n",
        "    city_populations.append(c[\"Population\"])\n",
        "    names_and_ranks.append(c[\"City\"])\n",
        "    city_area.append(c[\"Area\"])\n",
        "\n",
        "val = go.Scatter(x = names_and_ranks , y= city_populations, text= names_and_ranks)\n",
        "val2 = go.Scatter(x = names_and_ranks , y= city_area, text= names_and_ranks)\n",
        "\n",
        "fig = go.Figure(\n",
        "    data=[val, val2],\n",
        "    layout_title_text=\"Populations\"\n",
        "    \n",
        ")\n",
        "fig\n"
      ],
      "execution_count": null,
      "outputs": []
    },
    {
      "cell_type": "code",
      "metadata": {
        "id": "QXA9wOUerSw5",
        "colab": {
          "base_uri": "https://localhost:8080/",
          "height": 35
        },
        "outputId": "9d89d35f-c3fe-4a89-cee3-131d173c13e7"
      },
      "source": [
        "cities[0]"
      ],
      "execution_count": null,
      "outputs": [
        {
          "output_type": "execute_result",
          "data": {
            "text/plain": [
              "{'Area': 59, 'City': 'Solta', 'Country': 'Croatia', 'Population': 1700}"
            ]
          },
          "metadata": {
            "tags": []
          },
          "execution_count": 8
        }
      ]
    },
    {
      "cell_type": "markdown",
      "metadata": {
        "id": "_u2qt2XyXUJO"
      },
      "source": [
        "DataTypes\n",
        "1. Strings + help\n",
        "2. Numbers + Booleans "
      ]
    },
    {
      "cell_type": "code",
      "metadata": {
        "id": "vKEe2K9lReT7"
      },
      "source": [
        "type(\"larissa\")\n",
        "\n",
        "\"Larissa A Borges\".upper()\n",
        "\"Larissa A Borges\".endswith(\"Borges\")\n",
        "\"Larissa A Borges\".replace(\"Borges\", \"Ballalai\")\n",
        "\"larissa a borges\".capitalize()\n",
        "\"larissa a borges\".title()\n",
        "\"larissa a borges\"[:4]\n",
        "\n",
        "help(str)"
      ],
      "execution_count": null,
      "outputs": []
    },
    {
      "cell_type": "code",
      "metadata": {
        "id": "ulLtgqYsXl-v"
      },
      "source": [
        "#calculus\n",
        "1 + 1\n",
        "1 * 90\n",
        "2 ** 3\n",
        "\n",
        "#conversion\n",
        "int('34') < 22\n",
        "\n",
        "#boolean\n",
        "34 < 22\n",
        "bool(1)"
      ],
      "execution_count": null,
      "outputs": []
    },
    {
      "cell_type": "code",
      "metadata": {
        "id": "SWN4QbRIju2J"
      },
      "source": [
        "r = range(0, 10)\n",
        "lista = list(r)\n",
        "\n",
        "for n in lista:\n",
        "  print(n)\n"
      ],
      "execution_count": null,
      "outputs": []
    },
    {
      "cell_type": "markdown",
      "metadata": {
        "id": "Pv108hH4by7n"
      },
      "source": [
        "Python Collections\n",
        "1. Lists"
      ]
    },
    {
      "cell_type": "code",
      "metadata": {
        "id": "m5-COg7YYJ-3",
        "colab": {
          "base_uri": "https://localhost:8080/",
          "height": 35
        },
        "outputId": "5f56e216-61fa-40e0-9ee8-02165ed2d12b"
      },
      "source": [
        "#list\n",
        "countries = ['Croatia', 'USA', 'Argentina', 'Mexico', 'USA', 'Morocco', 'New Mexico', 'Finland', 'Argentina', 'Italy', 'Canada', 'South Korea']\n",
        "#add item\n",
        "countries.append('São Paulo')\n",
        "countries.append('São Paulo')\n",
        "#the last item\n",
        "countries[-1]\n",
        "#certain positions\n",
        "countries[2:6]\n",
        "#remove duplicity\n",
        "unique_vaues = set(countries)\n",
        "#remove last item from the list\n",
        "countries.pop() "
      ],
      "execution_count": null,
      "outputs": [
        {
          "output_type": "execute_result",
          "data": {
            "text/plain": [
              "'São Paulo'"
            ]
          },
          "metadata": {
            "tags": []
          },
          "execution_count": 12
        }
      ]
    },
    {
      "cell_type": "markdown",
      "metadata": {
        "id": "xcYP9KRflLxo"
      },
      "source": [
        "Lists with Maps\n",
        "* Folium"
      ]
    },
    {
      "cell_type": "code",
      "metadata": {
        "id": "wSoFmrKtk8n5"
      },
      "source": [
        "import folium\n",
        "\n",
        "coordinates = [-34.6037, -58.3816]\n",
        "ba_latitude = coordinates[0]\n",
        "ba_longitude = coordinates[1]\n",
        "\n",
        "buenos_map = folium.Map([ba_latitude, ba_longitude], zoom_start = 12)"
      ],
      "execution_count": null,
      "outputs": []
    },
    {
      "cell_type": "code",
      "metadata": {
        "id": "zLvytqVlae2F"
      },
      "source": [
        "neighborhoods = ['Palermo', 'Ricoleta', 'Santelmo', 'Puerto Madero', 'Belgrano', 'La Boca']\n",
        "marker_one = folium.Marker([-34.5711, -58.4233])\n",
        "marker_two = folium.Marker([-34.5895, -58.3974])\n",
        "marker_three = folium.Marker([-34.6212, -58.3731])\n",
        "marker_four = folium.Marker([-34.6177, -58.3621])\n",
        "marker_five = folium.Marker([-34.603722,  -58.381592])\n",
        "marker_six = folium.Marker([-34.6345, -58.3631])\n",
        "neighborhood_markers = [marker_one, marker_two, marker_three, marker_four, marker_five, marker_six]\n",
        "\n",
        "for marker in neighborhood_markers:\n",
        "    marker.add_to(buenos_map)\n",
        "    \n",
        "buenos_map"
      ],
      "execution_count": null,
      "outputs": []
    },
    {
      "cell_type": "markdown",
      "metadata": {
        "id": "kKLeoCaLod52"
      },
      "source": [
        "Math Interview - Expressing functions"
      ]
    },
    {
      "cell_type": "markdown",
      "metadata": {
        "id": "aTbO3-Leohfk"
      },
      "source": [
        "Derivatives\n",
        "---\n",
        "\n",
        "Derivative is the change in output per a change in input. In the case of our jogger, the input was time and the output was distance traveled and our derivative is the change in the runner's distance traveled divided by the amount of time passed.\n",
        "\n",
        "Graphically, the derivative is simply the rise over run or change in x divided by change in y:\n",
        "$$ f'(x) = \\frac{\\Delta y}{\\Delta x} = \\frac{y_2 - y_1}{x_2 - x_1} $$\n",
        "\n",
        "We can express the derivative in terms of $\\Delta x$ as in subtract the output at an initial x value from the output at that initial x value plus some change in x, then divide by that change in x:\n",
        "\n",
        "$$ f'(x) = \\frac{f(x_1 + \\Delta x) - f(x_1)}{\\Delta x} $$\n"
      ]
    },
    {
      "cell_type": "code",
      "metadata": {
        "id": "hnu0d2KJmnA4"
      },
      "source": [
        "#1. Evaluates the provided function at a value of x.\n",
        "def calc_equation(terms_of_equation, x_value):\n",
        "    return terms_of_equation[0][0] * (x_value ** terms_of_equation[0][1]) + (terms_of_equation[1][0])"
      ],
      "execution_count": null,
      "outputs": []
    },
    {
      "cell_type": "code",
      "metadata": {
        "id": "Ej0UE-1QgIM7"
      },
      "source": [
        "equation_ = [(4, 1), (15, 0)]  # terms of equation\n",
        "x_values = list(range(0, 6))   # x values autogenerated\n",
        "equation_values = list(map(lambda x: calc_equation(equation_, x), x_values)) # y values generated from x values\n",
        "equation_trace  = {'x': x_values, 'y':equation_values, 'name': 'main_data'}      "
      ],
      "execution_count": null,
      "outputs": []
    },
    {
      "cell_type": "code",
      "metadata": {
        "id": "G1d8i682UtCB"
      },
      "source": [
        "#Ax = delta X\n",
        "def delta_f(terms_of_equation, x, Ax):\n",
        "    fx_plus_Ax = calc_equation(terms_of_equation, x + Ax)\n",
        "    fx         = calc_equation(terms_of_equation, x)\n",
        "    Af         = fx_plus_Ax - fx\n",
        "    return Af\n",
        "\n",
        "def derivative_of(terms_of_equation, x, Ax):\n",
        "    Af = delta_f(terms_of_equation, x, Ax)\n",
        "    fx_derivative = Af / Ax \n",
        "    return fx_derivative\n",
        "\n",
        "def delta_f_trace(terms_of_equation, x, Ax):\n",
        "    initial_f = calc_equation(terms_of_equation, x)\n",
        "    delta_f_  = delta_f(terms_of_equation, x, Ax)\n",
        "\n",
        "    if initial_f and delta_f_:\n",
        "        return {'x' : [x + Ax, x + Ax], 'y' : [initial_f, initial_f + delta_f_], 'name': 'delta f = ' + str(Ax)}\n",
        "\n",
        "def delta_x_trace(terms_of_equation, x, Ax):\n",
        "    initial_f = calc_equation(terms_of_equation, x)\n",
        "\n",
        "    if initial_f:\n",
        "        return {'x': [x, x + Ax],'y': [initial_f, initial_f], 'name': 'delta x = ' + str(Ax)}\n",
        "\n",
        "def derivative_trace(terms_of_equation, x, line_length = 4, Ax = .01):\n",
        "    derivative_at = derivative_of(terms_of_equation, x, Ax)\n",
        "    y = calc_equation(terms_of_equation, x)\n",
        "\n",
        "    if derivative_at and y:\n",
        "        x_minus = x - line_length/2\n",
        "        x_plus  = x + line_length/2\n",
        "        y_minus = y - derivative_at * line_length/2\n",
        "        y_plus  = y + derivative_at * line_length/2\n",
        "        return {'x': [x_minus, x, x_plus],'y': [y_minus, y, y_plus],'name': \"f' (x) = \" + str(derivative_at)}\n",
        "\n",
        "def delta_traces(terms_of_equation, x, line_length = 4, Ax = .01):\n",
        "    tangent      = derivative_trace(terms_of_equation, x, line_length, Ax)\n",
        "    delta_f_line = delta_f_trace(terms_of_equation, x, Ax)\n",
        "    delta_x_line = delta_x_trace(terms_of_equation, x, Ax)\n",
        "    return [tangent, delta_f_line, delta_x_line]"
      ],
      "execution_count": null,
      "outputs": []
    },
    {
      "cell_type": "code",
      "metadata": {
        "id": "eLD1VRxeRZ67"
      },
      "source": [
        "delta_x = 1\n",
        "delta_traces_ = delta_traces(equation_, 2, line_length= 2*1, Ax = delta_x)"
      ],
      "execution_count": null,
      "outputs": []
    },
    {
      "cell_type": "code",
      "metadata": {
        "id": "vjgjTHdUoPO3"
      },
      "source": [
        "import plotly.graph_objects as go\n",
        "\n",
        "eq_Scatter1 = go.Scatter(delta_traces_[0])\n",
        "eq_Scatter2 = go.Scatter(delta_traces_[1])\n",
        "eq_Scatter3 = go.Scatter(delta_traces_[2])\n",
        "\n",
        "fig = go.Figure(\n",
        "    data=[equation_trace, eq_Scatter1, eq_Scatter2, eq_Scatter3],\n",
        "    layout_title_text=\"Complete\"\n",
        ")\n",
        "fig"
      ],
      "execution_count": null,
      "outputs": []
    },
    {
      "cell_type": "code",
      "metadata": {
        "id": "iKsElHmRvdmO"
      },
      "source": [
        "def function_values_trace(terms_of_equation, x_values):  \n",
        "    function_values = list(map(lambda x: calc_equation(terms_of_equation, x),x_values))\n",
        "    return (x_values, function_values)\n",
        "\n",
        "def derivative_values_trace(terms_of_equation, x_values, Ax):\n",
        "    derivative_values = list(map(lambda x: derivative_of(terms_of_equation, x, Ax), x_values))\n",
        "    return (x_values, derivative_values)\n",
        "\n",
        "def function_and_derivative_trace(terms_of_equation, x, Ax):\n",
        "    traced_function = function_values_trace(terms_of_equation, x)\n",
        "    traced_derivative = derivative_values_trace(terms_of_equation, x, Ax)\n",
        "    return ([traced_function], [traced_derivative])"
      ],
      "execution_count": null,
      "outputs": []
    },
    {
      "cell_type": "code",
      "metadata": {
        "id": "IxIPC11Qs4D3"
      },
      "source": [
        "import plotly.graph_objects as go\n",
        "\n",
        "equation_function_and_derivative = function_and_derivative_trace(equation_, list(range(0, 7)), 1)\n",
        "\n",
        "fig = go.Figure(\n",
        "    data=[go.Scatter(equation_function_and_derivative)],\n",
        "    layout_title_text=\"Complete\"\n",
        ")\n",
        "fig\n",
        "\n",
        "#plot_figure(equation_function_and_derivative)\n",
        "#change this code for a graph"
      ],
      "execution_count": null,
      "outputs": []
    },
    {
      "cell_type": "markdown",
      "metadata": {
        "id": "_UKm4bLXovAB"
      },
      "source": [
        "Non Linear Derivatives\n",
        "\n",
        "---\n",
        "\n"
      ]
    },
    {
      "cell_type": "markdown",
      "metadata": {
        "id": "VuxtFxiHRYs2"
      },
      "source": [
        "To calculate the instantaneous rate of change (derivative) of a function, we see the value that  Δ𝑦Δ𝑥  approaches as  Δ𝑥  approaches zero. This way, we are not calculating the rate of change of a function across a given distance. Instead we are finding the rate of change at a specific moment.\n",
        "\n",
        "> Tangent to the curve means that our line is just touching the curve.\n",
        "\n",
        "> The more that a line is tangent to the curve at a point, the more it's slope matches the derivative. Slope = \"inclinação\"\n",
        "\n",
        "\n",
        "\n"
      ]
    },
    {
      "cell_type": "markdown",
      "metadata": {
        "id": "a74RqF4eDN9R"
      },
      "source": [
        "Derivative Rules\n",
        "\n",
        "\n",
        "---\n",
        "\n",
        "\n",
        "---\n"
      ]
    },
    {
      "cell_type": "markdown",
      "metadata": {
        "id": "0-fj7KnKv0Vd"
      },
      "source": [
        "***Convergence - The limit***\n",
        "\n",
        "> The convergence around number or the limit, expressed by: $\\ f'(2) = \\lim_{\\Delta x\\to0} \\frac{\\Delta f}{\\Delta x} = 4  $.\n",
        "\n",
        "> We read this as the limit of $\\frac{\\Delta f}{\\Delta x} $ as  $ \\Delta x $ approaches zero equals 4.\n",
        "\n",
        "> | $ \\Delta x $        | $ \\frac{\\Delta y}{\\Delta x} $|\n",
        "| ------------- |:-------------:|\n",
        "| 1      | 5      |\n",
        "| .1      | 4.1|\n",
        "| .01 | 4.01     |\n",
        "| .001 | 4.001      |\n",
        "\n",
        "> In general our definition of the derivative is:\n",
        "$\\ f'(x) = \\lim_{\\Delta x\\to0} \\frac{\\Delta f}{\\Delta x}  = \\lim_{h\\to0} \\frac{f(x + h) - f(x)}{h} $$\n",
        "\n"
      ]
    },
    {
      "cell_type": "markdown",
      "metadata": {
        "id": "-t2-H88-bIPl"
      },
      "source": [
        "***The power rule: shortcut to calculate derivatives***\n",
        "> It allow us to evaluate the derivative at a single point across any value of x. It is expressed as the following: $\\ f(x) = x^r $. Its derivative is $\\ f'(x) = r*x^{r-1} $\n",
        "\n",
        "> Let's apply the power rule with another example to make sure that we understand it. \n",
        "$$ f(x) = x^2 $$ \n",
        "$$ f'(x) = 2*x^{2-1} = 2*x^1 = 2*x $$\n",
        "\n",
        "\n",
        "> Ex: for $f'(x)$ is saying about our function. $\\ f'(x) = 2*x $\n",
        "* When $ x = 2$ then $f'(2) = 2*2 = 4 $\n",
        "* When $ x = -1 $, then $ f'(-1) = 2*(-1) = -2$\n",
        "\n",
        "*The rate of change is constant for linear functions, the derivative is always the same across all values of x.*"
      ]
    },
    {
      "cell_type": "markdown",
      "metadata": {
        "id": "zdjYgZe1kevA"
      },
      "source": [
        "***The constant factor rule***\n",
        "\n",
        "> The derivative of a function multiplied by a constant:\n",
        "$\\ f(x) = 3*x$. The derivative is $\\ f'(x) = 3 * \\frac{\\Delta f}{\\Delta x} $\n",
        "\n",
        "\n",
        "> Applying the power rule, we know that $ \\frac{\\Delta f}{\\Delta x}x^1 = x^{1-1} = 1 $, so we have: \n",
        "$$f'(x) = 3 * \\frac{\\Delta f}{\\Delta x}x = 3*1 = 3$$\n",
        "\n",
        "In the general case, we can say, consider the function $a*f(x)$ where $a$ is a constant (that is, is a number and not a variable).  Then \n",
        "\n",
        "$$\\frac{\\Delta f}{\\Delta x}(a*f(x)) = a * \\frac{\\Delta f}{\\Delta x}*f(x) $$  \n",
        "\n",
        "> Now, don't let the fancy equations above confuse you.  The rule simply says if a variable is multiplied by a constant (i.e. a number), then to take the derivative of that term, apply our familiar power rule to the variable and multiply the variable by that same constant.\n",
        "\n",
        "So given the function: \n",
        "\n",
        "$$f(x) = 2x^2 $$\n",
        "\n",
        "\n",
        "$$f'(x) = 2*\\frac{\\Delta f}{\\Delta x} x^{2} = 2*2*x^{2-1} = 4x^1 = 4x $$\n",
        "\n",
        "That's the constant factor rule in action."
      ]
    },
    {
      "cell_type": "markdown",
      "metadata": {
        "id": "8eo_IGQ6JSAw"
      },
      "source": [
        "***The addition rule***\n",
        "\n",
        "Terms of a function are the parts of a function. For example, the function $f(x)$ below has three terms:\n",
        "    \n",
        "$\\ f(x) = 4x^3 - x^2 + 3x $\n",
        "\n",
        "Apply the power rule to take the derivative of each item individually:\n",
        "$\\ f(x) = x^r $ - then - $\\ f'(x) = r*x^{r-1} $ \n",
        "\n",
        "$$ f(x) = 3x^5 - 10x + 10 $$\n",
        "$$ f'(x) = 15x^4 - 10 + 0  $$\n",
        "$$ f'(3) = 15 . 3^4 - 10 + 0  $$\n",
        "$$ f'(3) = 15 . 81 - 10  $$ \n",
        "$$ f'(3) = 15 . 81 - 10  $$ \n",
        "$$ f'(3) = 1.205  $$ \n",
        "\n",
        "*The derivative of a constant like the number 10 is always 0. $\\ z(x) = 10 * (x^0) $; that is 0.*\n"
      ]
    },
    {
      "cell_type": "markdown",
      "metadata": {
        "id": "pEFW-Y2pZqqt"
      },
      "source": [
        "Derivatives Lab - graphs with tangent need to be revised. I didn't get."
      ]
    },
    {
      "cell_type": "code",
      "metadata": {
        "id": "dnjOuPogJRSL"
      },
      "source": [
        "def term_output(term, x_value):\n",
        "    return term[0] * (x_value ** term[1])\n",
        "    \n",
        "def output_at(list_of_terms, x_value):\n",
        "    outputs = list(map(lambda term: term_output(term, x_value), list_of_terms))\n",
        "    return sum(outputs)"
      ],
      "execution_count": null,
      "outputs": []
    },
    {
      "cell_type": "code",
      "metadata": {
        "id": "o8XE9DHeZoSE"
      },
      "source": [
        "def find_term_derivative(term):\n",
        "    st_term = term[0] * term[1] \n",
        "    nd_term = term[1] - 1\n",
        "    term_derivative = (st_term, nd_term)\n",
        "    return term_derivative\n",
        "\n",
        "def find_derivative(function_terms):\n",
        "    terms_filtered  = list(filter(lambda term: find_term_derivative(term)[1] > 0, function_terms))\n",
        "    calc_derivative = list(map(lambda term: find_term_derivative(term), terms_filtered)) \n",
        "    return calc_derivative\n",
        "\n",
        "def derivative_at(terms, x):  \n",
        "    tupple_derivative = find_derivative(terms)\n",
        "    result = output_at(tupple_derivative, x)\n",
        "    return result\n",
        "\n",
        "def tangent_line(function_terms, x_value, line_length = 4):\n",
        "    x_minus = x_value - line_length\n",
        "    x_plus = x_value + line_length\n",
        "    y = output_at(function_terms, x_value)\n",
        "    deriv = derivative_at(function_terms, x_value)\n",
        "    y_minus = y - deriv * line_length\n",
        "    y_plus = y + deriv * line_length\n",
        "    return {'x': [x_minus, x_value, x_plus], 'y': [y_minus, y, y_plus], 'name': 'tangent'}"
      ],
      "execution_count": null,
      "outputs": []
    },
    {
      "cell_type": "code",
      "metadata": {
        "id": "Hpc7r1MJNSF-"
      },
      "source": [
        "def function_values_trace(function_terms, x_values):\n",
        "    function_values = list(map(lambda x: output_at(function_terms, x),x_values))\n",
        "    return {'x': x_values, 'y': function_values, 'name': 'function terms'}\n",
        "\n",
        "def derivative_function_trace(terms, x_values):\n",
        "    derivative_trace = list(map(lambda d: derivative_at(terms, d), x_values))\n",
        "    return {'x': x_values, 'y': derivative_trace, 'name': 'derivative trace' }\n",
        "\n",
        "def side_by_side_derivative_rules(function_terms, x_values):\n",
        "    function_trace = function_values_trace(function_terms, x_values)\n",
        "    derivative_trace = derivative_function_trace(function_terms, x_values)\n",
        "    return (function_trace, derivative_trace)"
      ],
      "execution_count": null,
      "outputs": []
    },
    {
      "cell_type": "code",
      "metadata": {
        "id": "tbdjzCtbX2-W",
        "colab": {
          "base_uri": "https://localhost:8080/",
          "height": 35
        },
        "outputId": "20c92ccc-271a-47c1-860e-d312dedfb0be"
      },
      "source": [
        "equation_ = [(3, 2), (-11, 0)]\n",
        "find_derivative(equation_) # [(6, 1)]\n",
        "derivative_at(equation_, 2) # 12"
      ],
      "execution_count": null,
      "outputs": [
        {
          "output_type": "execute_result",
          "data": {
            "text/plain": [
              "12"
            ]
          },
          "metadata": {
            "tags": []
          },
          "execution_count": 9
        }
      ]
    },
    {
      "cell_type": "code",
      "metadata": {
        "id": "ia4d3ohYX8Gp"
      },
      "source": [
        "tangent_atfive_trace = tangent_line(equation_, 5, line_length = 4)\n",
        "equation_trace   = function_values_trace(equation_, list(range(-10, 10)))\n",
        "derivative_trace = derivative_function_trace(equation_, list(range(-5, 5)))\n",
        "function_trace   = function_values_trace(equation_, list(range(-5, 5)))"
      ],
      "execution_count": null,
      "outputs": []
    },
    {
      "cell_type": "code",
      "metadata": {
        "id": "PAcQQ4UPZI3W"
      },
      "source": [
        "import plotly.graph_objects as go\n",
        "\n",
        "equation_trace_Scatter       = go.Scatter(equation_trace)\n",
        "derivative_trace_Scatter     = go.Scatter(derivative_trace)\n",
        "function_trace_Scatter       = go.Scatter(function_trace)\n",
        "tangent_atfive_trace_Scatter = go.Scatter(tangent_atfive_trace)\n",
        "\n",
        "fig = go.Figure(\n",
        "    data=[equation_trace_Scatter, derivative_trace_Scatter, function_trace_Scatter, tangent_atfive_trace_Scatter],\n",
        "    layout_title_text=\"Derivatives\"\n",
        ")\n",
        "fig\n",
        "\n",
        "# fig = go.Figure(\n",
        "#     data=[derivative_trace_Scatter, function_trace_Scatter],\n",
        "#     layout_title_text=\"My Plot\"\n",
        "# )\n",
        "# fig\n",
        "\n",
        "# fig = go.Figure(\n",
        "#     data=[equation_trace_Scatter, tangent_atfive_trace_Scatter],\n",
        "#     layout_title_text=\"My Plot\"\n",
        "# )\n",
        "# fig"
      ],
      "execution_count": null,
      "outputs": []
    },
    {
      "cell_type": "code",
      "metadata": {
        "id": "obObXh3yeKd8"
      },
      "source": [
        "import plotly.graph_objects as go\n",
        "\n",
        "side_by_side_equation = side_by_side_derivative_rules(equation_, list(range(-5, 5)))\n",
        "\n",
        "fig = go.Figure(\n",
        "    data=[go.Scatter(side_by_side_equation[0]), go.Scatter(side_by_side_equation[1])],\n",
        "    layout_title_text=\"Derivatives\"\n",
        ")\n",
        "fig"
      ],
      "execution_count": null,
      "outputs": []
    },
    {
      "cell_type": "markdown",
      "metadata": {
        "id": "Kmfwy_ifiQvh"
      },
      "source": [
        "**Multivariable Functions**\n",
        "\n",
        "---\n",
        "\n"
      ]
    },
    {
      "cell_type": "markdown",
      "metadata": {
        "id": "f3tVMTfblE45"
      },
      "source": [
        "1. how multivariable function can be represented as a 3d graph\n",
        "2. when we think of the error (cost) of a regression function it varies with changing slope and y-intercept values\n",
        "3. how to think about the a regression line's cost curve in three dimensions"
      ]
    },
    {
      "cell_type": "markdown",
      "metadata": {
        "id": "yPuIIfFpxpWd"
      },
      "source": [
        "Multivariable Calculus Gradient Descent\n",
        "\n",
        "---\n"
      ]
    },
    {
      "cell_type": "markdown",
      "metadata": {
        "id": "CGe8T4_Nx0mB"
      },
      "source": [
        "**Regression Formula**\n",
        "\n",
        "Estimate the relationship between one or more independent variables and dependent variables and then it would be used for modeling the relationship between those variables in the future.\n",
        "\n",
        "Y=a + bX + ∈\n",
        "\n",
        "Where:\n",
        "\n",
        "Y – is the dependent variable: our prediction.\n",
        "\n",
        "X – is the independent (explanatory) variable.\n",
        "\n",
        "a – is the intercept: the value which remains fixed.\n",
        "\n",
        "b – is the slope: how much the variable is the dependant upon independent variable.\n",
        "\n",
        "∈ – and is the residual (error)\n",
        "\n",
        "The formula for intercept “a” and the slope “b” can be calculated per below.\n",
        "\n",
        "a= (Σy)(Σx2) - (Σx)(Σxy)/ n(Σx2) - (Σx)2\n",
        "b= n (Σxy) - (Σx)(Σy) /n(Σx2) - (Σx)2\n",
        "\n",
        "\n"
      ]
    },
    {
      "cell_type": "markdown",
      "metadata": {
        "id": "IgiOfbeP6Ynh"
      },
      "source": [
        "**Regression Analysis Formula**\n",
        "\n",
        "Is the analysis of relationship between dependent and independent variable, by that I mean, how much the dependent variable changes according to changes that the  independent variable changes due to factors.\n",
        "\n",
        "Y = mx + b\n",
        "\n",
        "Where:\n",
        "\n",
        "Y= the dependent variable of the regression equation\n",
        "\n",
        "M= slope of the regression equation\n",
        "\n",
        "x=dependent variable of the regression equation\n",
        "\n",
        "B= constant of the equation"
      ]
    },
    {
      "cell_type": "markdown",
      "metadata": {
        "id": "78R0LzAK6nGR"
      },
      "source": [
        "**Gradient Descendent**\n",
        "\n",
        "It is a technique which provides the best fit. We look the slope of cost curve  at a specific value to tell us whether to increase or decrease our y-intercept and how large is the change we need to make.\n",
        "\n",
        "y = mx + b\n",
        "m: slope\n",
        "b: intercept\n",
        "\n",
        "***2D Gradiente Descent***\n",
        "\n",
        "In two dimensions GD means stepping forwards and backwards along the cost curve. The slope tell us how to move.\n",
        "\n",
        "***3D Gradient Descent***\n",
        "\n",
        "In three dimensions GD means stepping towards the minimum. But now we are able to walk forwards, backwards, right and left, because we have two variables.\n",
        "\n",
        "**Partial Derivatives**\n",
        "\n",
        "Tuple with three elements and with that third element the exponent related to the 𝑦 variable.\n",
        "\n"
      ]
    },
    {
      "cell_type": "code",
      "metadata": {
        "id": "da23F1BBxxyP"
      },
      "source": [
        ""
      ],
      "execution_count": null,
      "outputs": []
    },
    {
      "cell_type": "code",
      "metadata": {
        "id": "3mI5kG_wxx6j"
      },
      "source": [
        ""
      ],
      "execution_count": null,
      "outputs": []
    },
    {
      "cell_type": "markdown",
      "metadata": {
        "id": "Izr-2flPxw6z"
      },
      "source": [
        ""
      ]
    },
    {
      "cell_type": "code",
      "metadata": {
        "id": "_F7FIi_Nxn62"
      },
      "source": [
        "Multivariable Calculus Gradient Descent"
      ],
      "execution_count": null,
      "outputs": []
    }
  ]
}